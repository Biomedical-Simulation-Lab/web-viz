{
 "cells": [
  {
   "cell_type": "code",
   "execution_count": 1,
   "metadata": {},
   "outputs": [],
   "source": [
    "import pyvista as pv"
   ]
  },
  {
   "cell_type": "code",
   "execution_count": 2,
   "metadata": {},
   "outputs": [
    {
     "data": {
      "text/html": [
       "<table><tr><th>Header</th><th>Data Arrays</th></tr><tr><td>\n",
       "<table>\n",
       "<tr><th>PolyData</th><th>Information</th></tr>\n",
       "<tr><td>N Cells</td><td>1124</td></tr>\n",
       "<tr><td>N Points</td><td>89146</td></tr>\n",
       "<tr><td>X Bounds</td><td>1.987e+02, 2.861e+02</td></tr>\n",
       "<tr><td>Y Bounds</td><td>1.563e+02, 2.329e+02</td></tr>\n",
       "<tr><td>Z Bounds</td><td>1.161e+02, 2.647e+02</td></tr>\n",
       "<tr><td>N Arrays</td><td>3</td></tr>\n",
       "</table>\n",
       "\n",
       "</td><td>\n",
       "<table>\n",
       "<tr><th>Name</th><th>Field</th><th>Type</th><th>N Comp</th><th>Min</th><th>Max</th></tr>\n",
       "<tr><td><b>LNH</b></td><td>Points</td><td>float64</td><td>1</td><td>-9.903e-01</td><td>9.953e-01</td></tr>\n",
       "<tr><td>vtkValidPointMask</td><td>Points</td><td>int8</td><td>1</td><td>0.000e+00</td><td>1.000e+00</td></tr>\n",
       "<tr><td>V</td><td>Points</td><td>float64</td><td>3</td><td>-1.051e+03</td><td>1.140e+03</td></tr>\n",
       "</table>\n",
       "\n",
       "</td></tr> </table>"
      ],
      "text/plain": [
       "PolyData (0x7fcf303a4040)\n",
       "  N Cells:\t1124\n",
       "  N Points:\t89146\n",
       "  X Bounds:\t1.987e+02, 2.861e+02\n",
       "  Y Bounds:\t1.563e+02, 2.329e+02\n",
       "  Z Bounds:\t1.161e+02, 2.647e+02\n",
       "  N Arrays:\t3"
      ]
     },
     "execution_count": 2,
     "metadata": {},
     "output_type": "execute_result"
    }
   ],
   "source": [
    "pv.set_jupyter_backend('pythreejs')\n",
    "#read in the mesh file\n",
    "lnh_data= pv.read('data/lnh_final.vtk')\n",
    "lnh_data.flip_z(inplace=True)\n",
    "\n",
    "streamline_data= pv.read('data/streamline_final.vtk')\n",
    "streamline_data.flip_z(inplace=True)\n"
   ]
  },
  {
   "cell_type": "code",
   "execution_count": 3,
   "metadata": {},
   "outputs": [],
   "source": [
    "def update_image(lnh_thresh_percent,streamlines,angle):\n",
    "  p = pv.Plotter(off_screen=False)\n",
    "  #need to always specity which scalar in the mesh is being used for current operation\n",
    "  lnh_data.set_active_scalars('LNH')\n",
    "\n",
    "  lnh_thresh=lnh_thresh_percent/100\n",
    "  #lnh ranges from -1 to 1, we must calculate the negative lnh threshold as well (is if threshold is 0.5 we will plot values above 0.5 and below -0.5)\n",
    "  neg_lnh_thresh= float (0) - float(lnh_thresh)\n",
    "\n",
    "  #create 2 new meshes, one for the thresholded positive points \n",
    "  pos_lnh= lnh_data.threshold(lnh_thresh)\n",
    "  #and 1 for the thresholded negative points\n",
    "  neg_lnh= lnh_data.threshold(neg_lnh_thresh,invert=True)\n",
    "\n",
    "  #plot the streamlines mesh\n",
    "  if (streamlines== 1):\n",
    "    p.add_mesh(streamline_data, name=\"Streamlines\")\n",
    "\n",
    "  #plot the 2 meshes\n",
    "  if (lnh_thresh_percent<100):\n",
    "    p.add_mesh(pos_lnh, name=\"lnh_pos\", color='red', opacity=1)\n",
    "    p.add_mesh(neg_lnh, name=\"lnh_neg\", color='blue',opacity=1)\n",
    "\n",
    "  #set camera position settings\n",
    "  p.camera.azimuth = angle\n",
    "  p.camera.elevation = -30\n",
    "  p.camera.zoom(0.8)\n",
    "\n",
    "  p.add_axes(line_width=5, labels_off=True)\n",
    "  img=p.show()"
   ]
  },
  {
   "cell_type": "code",
   "execution_count": 4,
   "metadata": {},
   "outputs": [
    {
     "data": {
      "application/vnd.jupyter.widget-view+json": {
       "model_id": "1bbe21c1e2dc429d9808335167fdda81",
       "version_major": 2,
       "version_minor": 0
      },
      "text/plain": [
       "Renderer(camera=PerspectiveCamera(aspect=1.3333333333333333, children=(DirectionalLight(intensity=0.25, positi…"
      ]
     },
     "metadata": {},
     "output_type": "display_data"
    }
   ],
   "source": [
    "###### edit these parameters##########\n",
    "####this is the parameter to adjust the camera angle (values 0 to 360) #####\n",
    "angle=0\n",
    "#this is the parameter to adjust the lnh thresholding percentage (values 0 to 100)\n",
    "lnh_thresh_percent=0\n",
    "#this is the parameter to adjust streamline opacity ( 1=show streamlines  0=no streamlines)\n",
    "streamlines=0\n",
    "######################################\n",
    "\n",
    "update_image(lnh_thresh_percent ,streamlines,angle)"
   ]
  },
  {
   "cell_type": "code",
   "execution_count": null,
   "metadata": {},
   "outputs": [],
   "source": []
  }
 ],
 "metadata": {
  "colab": {
   "provenance": []
  },
  "kernelspec": {
   "display_name": "Python 3 (ipykernel)",
   "language": "python",
   "name": "python3"
  },
  "language_info": {
   "codemirror_mode": {
    "name": "ipython",
    "version": 3
   },
   "file_extension": ".py",
   "mimetype": "text/x-python",
   "name": "python",
   "nbconvert_exporter": "python",
   "pygments_lexer": "ipython3",
   "version": "3.9.7"
  }
 },
 "nbformat": 4,
 "nbformat_minor": 4
}
